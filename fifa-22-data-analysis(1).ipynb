{
 "cells": [
  {
   "cell_type": "markdown",
   "metadata": {},
   "source": [
    "#  data analysis of the FIFA22 dataset."
   ]
  },
  {
   "cell_type": "markdown",
   "metadata": {},
   "source": []
  },
  {
   "cell_type": "code",
   "execution_count": null,
   "metadata": {
    "execution": {
     "iopub.execute_input": "2022-01-17T12:40:47.594182Z",
     "iopub.status.busy": "2022-01-17T12:40:47.593498Z",
     "iopub.status.idle": "2022-01-17T12:40:47.598651Z",
     "shell.execute_reply": "2022-01-17T12:40:47.597986Z",
     "shell.execute_reply.started": "2022-01-17T12:40:47.594137Z"
    }
   },
   "outputs": [],
   "source": [
    "import pandas as pd\n",
    "import numpy as np\n",
    "import seaborn as sns\n",
    "import matplotlib.pyplot as plt\n",
    "from wordcloud import WordCloud\n",
    "import math"
   ]
  },
  {
   "cell_type": "markdown",
   "metadata": {},
   "source": [
    "# Load, Preview and Prepare the Data"
   ]
  },
  {
   "cell_type": "code",
   "execution_count": null,
   "metadata": {
    "execution": {
     "iopub.execute_input": "2022-01-17T12:40:47.659404Z",
     "iopub.status.busy": "2022-01-17T12:40:47.658618Z",
     "iopub.status.idle": "2022-01-17T12:40:48.21361Z",
     "shell.execute_reply": "2022-01-17T12:40:48.212778Z",
     "shell.execute_reply.started": "2022-01-17T12:40:47.659364Z"
    }
   },
   "outputs": [],
   "source": [
    "# Load data and preview \n",
    "\n",
    "file = \" \"       #use the location of the file you are using.\n",
    "df = pd.read_csv(file)\n",
    "df.head(5)"
   ]
  },
  {
   "cell_type": "code",
   "execution_count": null,
   "metadata": {
    "execution": {
     "iopub.execute_input": "2022-01-17T12:40:48.216073Z",
     "iopub.status.busy": "2022-01-17T12:40:48.215614Z",
     "iopub.status.idle": "2022-01-17T12:40:48.223108Z",
     "shell.execute_reply": "2022-01-17T12:40:48.222118Z",
     "shell.execute_reply.started": "2022-01-17T12:40:48.216031Z"
    }
   },
   "outputs": [],
   "source": [
    "# The column names\n",
    "\n",
    "df.columns"
   ]
  },
  {
   "cell_type": "code",
   "execution_count": null,
   "metadata": {
    "execution": {
     "iopub.execute_input": "2022-01-17T12:40:48.2247Z",
     "iopub.status.busy": "2022-01-17T12:40:48.224432Z",
     "iopub.status.idle": "2022-01-17T12:40:48.269217Z",
     "shell.execute_reply": "2022-01-17T12:40:48.26838Z",
     "shell.execute_reply.started": "2022-01-17T12:40:48.22467Z"
    }
   },
   "outputs": [],
   "source": [
    "# Check the numeric values\n",
    "\n",
    "df.select_dtypes(include='number')"
   ]
  },
  {
   "cell_type": "code",
   "execution_count": null,
   "metadata": {
    "execution": {
     "iopub.execute_input": "2022-01-17T12:40:48.270487Z",
     "iopub.status.busy": "2022-01-17T12:40:48.270266Z",
     "iopub.status.idle": "2022-01-17T12:40:48.275895Z",
     "shell.execute_reply": "2022-01-17T12:40:48.275111Z",
     "shell.execute_reply.started": "2022-01-17T12:40:48.270461Z"
    }
   },
   "outputs": [],
   "source": [
    "# What's the shape of this data\n",
    "df.shape"
   ]
  },
  {
   "cell_type": "code",
   "execution_count": null,
   "metadata": {
    "execution": {
     "iopub.execute_input": "2022-01-17T12:40:48.279503Z",
     "iopub.status.busy": "2022-01-17T12:40:48.278415Z",
     "iopub.status.idle": "2022-01-17T12:40:48.292672Z",
     "shell.execute_reply": "2022-01-17T12:40:48.291642Z",
     "shell.execute_reply.started": "2022-01-17T12:40:48.279453Z"
    }
   },
   "outputs": [],
   "source": [
    "# check for datatypes, some might require changing depending on what needs to be done.\n",
    "df.dtypes"
   ]
  },
  {
   "cell_type": "markdown",
   "metadata": {},
   "source": [
    "# Descritive Statistics & Regression Analysis"
   ]
  },
  {
   "cell_type": "code",
   "execution_count": null,
   "metadata": {
    "execution": {
     "iopub.execute_input": "2022-01-17T12:40:48.294877Z",
     "iopub.status.busy": "2022-01-17T12:40:48.294361Z",
     "iopub.status.idle": "2022-01-17T12:40:48.464772Z",
     "shell.execute_reply": "2022-01-17T12:40:48.463737Z",
     "shell.execute_reply.started": "2022-01-17T12:40:48.294835Z"
    },
    "scrolled": true
   },
   "outputs": [],
   "source": [
    "# Let's check out some basic statistics\n",
    "\n",
    "df.describe()"
   ]
  },
  {
   "cell_type": "code",
   "execution_count": null,
   "metadata": {
    "execution": {
     "iopub.execute_input": "2022-01-17T12:40:48.466019Z",
     "iopub.status.busy": "2022-01-17T12:40:48.465816Z",
     "iopub.status.idle": "2022-01-17T12:40:48.722529Z",
     "shell.execute_reply": "2022-01-17T12:40:48.721663Z",
     "shell.execute_reply.started": "2022-01-17T12:40:48.465992Z"
    }
   },
   "outputs": [],
   "source": [
    "# Let's plot the relationship between player potential and wages\n",
    "\n",
    "plt.figure(figsize=(7, 5))\n",
    "ax = sns.scatterplot(x =df['potential'], y = df['wage_eur'])\n",
    "plt.xlabel(\"Potential\") \n",
    "plt.ylabel(\"Wage EUR\")\n",
    "plt.title(\"Potential & wage\", fontsize = 18)\n",
    "plt.show()"
   ]
  },
  {
   "cell_type": "code",
   "execution_count": null,
   "metadata": {
    "execution": {
     "iopub.execute_input": "2022-01-17T12:40:48.724341Z",
     "iopub.status.busy": "2022-01-17T12:40:48.723894Z",
     "iopub.status.idle": "2022-01-17T12:40:49.650738Z",
     "shell.execute_reply": "2022-01-17T12:40:49.649901Z",
     "shell.execute_reply.started": "2022-01-17T12:40:48.724278Z"
    }
   },
   "outputs": [],
   "source": [
    "# Let's plot the relationship between player potential and wages, filtered by International reputation\n",
    "\n",
    "plt.figure(figsize=(7, 5))\n",
    "ax = sns.scatterplot(x =df['potential'], y = df['wage_eur'], hue = df['international_reputation'])\n",
    "plt.xlabel(\"Potential\") \n",
    "plt.ylabel(\"Wage EUR\")\n",
    "plt.title(\"Potential & wage\", fontsize = 18)\n",
    "plt.show()"
   ]
  },
  {
   "cell_type": "code",
   "execution_count": null,
   "metadata": {
    "execution": {
     "iopub.execute_input": "2022-01-17T12:40:49.652271Z",
     "iopub.status.busy": "2022-01-17T12:40:49.651735Z",
     "iopub.status.idle": "2022-01-17T12:40:49.843549Z",
     "shell.execute_reply": "2022-01-17T12:40:49.842932Z",
     "shell.execute_reply.started": "2022-01-17T12:40:49.652238Z"
    }
   },
   "outputs": [],
   "source": [
    "# Let's plot the relationship between player potential and value\n",
    "\n",
    "fig, ax = plt.subplots(figsize=(7,5))\n",
    "plt.scatter(x=df['potential'], y=df['value_eur'] )\n",
    "plt.xlabel(\"potential\") \n",
    "plt.ylabel(\"Value in EUR\")\n",
    "plt.title(\"Potential & Value in EUR\", fontsize = 15)\n",
    "plt.show()"
   ]
  },
  {
   "cell_type": "code",
   "execution_count": null,
   "metadata": {
    "execution": {
     "iopub.execute_input": "2022-01-17T12:40:49.844901Z",
     "iopub.status.busy": "2022-01-17T12:40:49.844595Z",
     "iopub.status.idle": "2022-01-17T12:40:50.056955Z",
     "shell.execute_reply": "2022-01-17T12:40:50.056134Z",
     "shell.execute_reply.started": "2022-01-17T12:40:49.844874Z"
    }
   },
   "outputs": [],
   "source": [
    "# Let's plot the relationship between player reputation and value\n",
    "\n",
    "\n",
    "fig, ax = plt.subplots(figsize=(7,5))\n",
    "plt.scatter(x=df['international_reputation'], y=df['value_eur'] )\n",
    "plt.xlabel(\"International Reputation\") \n",
    "plt.ylabel(\"Value in EUR\")\n",
    "plt.title(\"Reputation & Value in EUR\", fontsize = 15)\n",
    "\n",
    "plt.show()"
   ]
  },
  {
   "cell_type": "code",
   "execution_count": null,
   "metadata": {
    "execution": {
     "iopub.execute_input": "2022-01-17T12:40:50.058574Z",
     "iopub.status.busy": "2022-01-17T12:40:50.058253Z",
     "iopub.status.idle": "2022-01-17T12:40:50.267462Z",
     "shell.execute_reply": "2022-01-17T12:40:50.266481Z",
     "shell.execute_reply.started": "2022-01-17T12:40:50.058532Z"
    }
   },
   "outputs": [],
   "source": [
    "# Let's plot the relationship between player reputation and wages\n",
    "\n",
    "\n",
    "fig, ax = plt.subplots(figsize=(7,5))\n",
    "plt.scatter(x=df['international_reputation'], y=df['wage_eur'] )\n",
    "plt.xlabel(\"International Reputation\") \n",
    "plt.ylabel(\"Wage in EUR\")\n",
    "plt.title(\"Reputation & wages in EUR\", fontsize = 15)\n",
    "plt.show()"
   ]
  },
  {
   "cell_type": "code",
   "execution_count": null,
   "metadata": {
    "execution": {
     "iopub.execute_input": "2022-01-17T12:40:50.269273Z",
     "iopub.status.busy": "2022-01-17T12:40:50.268896Z",
     "iopub.status.idle": "2022-01-17T12:40:50.4614Z",
     "shell.execute_reply": "2022-01-17T12:40:50.460554Z",
     "shell.execute_reply.started": "2022-01-17T12:40:50.269227Z"
    }
   },
   "outputs": [],
   "source": [
    "# Let's plot the relationship between player height and potential\n",
    "\n",
    "\n",
    "fig, ax = plt.subplots(figsize = (8,5))\n",
    "ax = sns.scatterplot(x =df['height_cm'], y = df['potential'])\n",
    "plt.xlabel(\"Height\") \n",
    "plt.ylabel(\"Potential\")\n",
    "plt.title(\"Relationship between Height and Potential\", fontsize = 16)\n",
    "plt.show()"
   ]
  },
  {
   "cell_type": "markdown",
   "metadata": {},
   "source": []
  },
  {
   "cell_type": "code",
   "execution_count": null,
   "metadata": {
    "execution": {
     "iopub.execute_input": "2022-01-17T12:40:50.463294Z",
     "iopub.status.busy": "2022-01-17T12:40:50.462974Z",
     "iopub.status.idle": "2022-01-17T12:40:50.510237Z",
     "shell.execute_reply": "2022-01-17T12:40:50.509447Z",
     "shell.execute_reply.started": "2022-01-17T12:40:50.463251Z"
    }
   },
   "outputs": [],
   "source": [
    "top_15 = df.nlargest(15, 'overall')\n",
    "top_15.head(5)"
   ]
  },
  {
   "cell_type": "code",
   "execution_count": null,
   "metadata": {
    "execution": {
     "iopub.execute_input": "2022-01-17T12:40:50.515001Z",
     "iopub.status.busy": "2022-01-17T12:40:50.514662Z",
     "iopub.status.idle": "2022-01-17T12:40:50.734855Z",
     "shell.execute_reply": "2022-01-17T12:40:50.734136Z",
     "shell.execute_reply.started": "2022-01-17T12:40:50.51497Z"
    }
   },
   "outputs": [],
   "source": [
    "# Does mentaility composure rating correlate with how players are rated overall? Let's check that.\n",
    "\n",
    "fig, ax = plt.subplots(figsize=(8,5))\n",
    "\n",
    "plt.scatter(top_15['overall'], top_15['mentality_composure'])\n",
    "\n",
    "plt.text(top_15.iloc[0]['overall'], top_15.iloc[0]['mentality_composure'], top_15.iloc[0]['short_name'])\n",
    "plt.text(top_15.iloc[1]['overall'], top_15.iloc[1]['mentality_composure'], top_15.iloc[1]['short_name'])\n",
    "plt.text(top_15.iloc[2]['overall'], top_15.iloc[2]['mentality_composure'], top_15.iloc[2]['short_name'])\n",
    "plt.text(top_15.iloc[3]['overall'], top_15.iloc[3]['mentality_composure'], top_15.iloc[3]['short_name'])\n",
    "plt.text(top_15.iloc[4]['overall'], top_15.iloc[4]['mentality_composure'], top_15.iloc[4]['short_name'])\n",
    "plt.text(top_15.iloc[5]['overall'], top_15.iloc[5]['mentality_composure'], top_15.iloc[5]['short_name'])\n",
    "plt.text(top_15.iloc[6]['overall'], top_15.iloc[6]['mentality_composure'], top_15.iloc[6]['short_name'])\n",
    "plt.text(top_15.iloc[7]['overall'], top_15.iloc[7]['mentality_composure'], top_15.iloc[7]['short_name'])\n",
    "plt.text(top_15.iloc[8]['overall'], top_15.iloc[8]['mentality_composure'], top_15.iloc[8]['short_name'])\n",
    "plt.text(top_15.iloc[9]['overall'], top_15.iloc[9]['mentality_composure'], top_15.iloc[9]['short_name'])\n",
    "\n",
    "ax.set_title(\"Overall Rating vs Mentality Composure\")\n",
    "ax.set_ylabel('Mentality Composure Rating')\n",
    "ax.set_xlabel('Overall Rating')\n",
    "\n",
    "plt.show()"
   ]
  },
  {
   "cell_type": "code",
   "execution_count": null,
   "metadata": {
    "execution": {
     "iopub.execute_input": "2022-01-17T12:40:50.736035Z",
     "iopub.status.busy": "2022-01-17T12:40:50.735847Z",
     "iopub.status.idle": "2022-01-17T12:40:50.932656Z",
     "shell.execute_reply": "2022-01-17T12:40:50.932074Z",
     "shell.execute_reply.started": "2022-01-17T12:40:50.736011Z"
    }
   },
   "outputs": [],
   "source": [
    "# Let's see if high overall score correlates with earnings, for the top 15 players\n",
    "\n",
    "fig, ax = plt.subplots(figsize=(8,5))\n",
    "\n",
    "plt.scatter(top_15['potential'], top_15['wage_eur'] )\n",
    "plt.text(top_15.iloc[0]['potential'], top_15.iloc[0]['wage_eur'], top_15.iloc[0]['short_name'])\n",
    "# plt.text(top_15.iloc[1]['potential'], top_15.iloc[1]['wage_eur'], top_15.iloc[1]['short_name']) for better view\n",
    "plt.text(top_15.iloc[2]['potential'], top_15.iloc[2]['wage_eur'], top_15.iloc[2]['short_name'])\n",
    "# plt.text(top_15.iloc[3]['potential'], top_15.iloc[3]['wage_eur'], top_15.iloc[3]['short_name'])\n",
    "plt.text(top_15.iloc[4]['potential'], top_15.iloc[4]['wage_eur'], top_15.iloc[4]['short_name'])\n",
    "plt.text(top_15.iloc[5]['potential'], top_15.iloc[5]['wage_eur'], top_15.iloc[5]['short_name'])\n",
    "plt.text(top_15.iloc[6]['potential'], top_15.iloc[6]['wage_eur'], top_15.iloc[6]['short_name'])\n",
    "plt.text(top_15.iloc[7]['potential'], top_15.iloc[7]['wage_eur'], top_15.iloc[7]['short_name'])\n",
    "plt.text(top_15.iloc[8]['potential'], top_15.iloc[8]['wage_eur'], top_15.iloc[8]['short_name'])\n",
    "plt.text(top_15.iloc[9]['potential'], top_15.iloc[9]['wage_eur'], top_15.iloc[9]['short_name'])\n",
    "\n",
    "ax.set_title(\"Potential vs Wages of top 15\")\n",
    "ax.set_ylabel('Wages in Eur')\n",
    "ax.set_xlabel('Potential')\n",
    "\n",
    "plt.show()\n",
    "\n",
    "\n",
    "#mentality_composure"
   ]
  },
  {
   "cell_type": "markdown",
   "metadata": {},
   "source": [
    "### Among the top 15 players, we see that there's no relationship between potential & wages. Interesting."
   ]
  },
  {
   "cell_type": "markdown",
   "metadata": {},
   "source": [
    "# Additional Insights & Data Visualization"
   ]
  },
  {
   "cell_type": "code",
   "execution_count": null,
   "metadata": {
    "execution": {
     "iopub.execute_input": "2022-01-17T12:40:50.934052Z",
     "iopub.status.busy": "2022-01-17T12:40:50.933749Z",
     "iopub.status.idle": "2022-01-17T12:40:50.94644Z",
     "shell.execute_reply": "2022-01-17T12:40:50.945624Z",
     "shell.execute_reply.started": "2022-01-17T12:40:50.934024Z"
    },
    "scrolled": true
   },
   "outputs": [],
   "source": [
    "# I want to group player earnings based on their work rate\n",
    "\n",
    "df.groupby(\"work_rate\")[\"wage_eur\"].max()"
   ]
  },
  {
   "cell_type": "code",
   "execution_count": null,
   "metadata": {
    "execution": {
     "iopub.execute_input": "2022-01-17T12:40:50.948108Z",
     "iopub.status.busy": "2022-01-17T12:40:50.947698Z",
     "iopub.status.idle": "2022-01-17T12:40:50.956264Z",
     "shell.execute_reply": "2022-01-17T12:40:50.954805Z",
     "shell.execute_reply.started": "2022-01-17T12:40:50.948065Z"
    }
   },
   "outputs": [],
   "source": [
    "# All available workrate metrics\n",
    "\n",
    "df['work_rate'].unique()"
   ]
  },
  {
   "cell_type": "code",
   "execution_count": null,
   "metadata": {
    "execution": {
     "iopub.execute_input": "2022-01-17T12:40:50.958158Z",
     "iopub.status.busy": "2022-01-17T12:40:50.957808Z",
     "iopub.status.idle": "2022-01-17T12:40:51.209965Z",
     "shell.execute_reply": "2022-01-17T12:40:51.209068Z",
     "shell.execute_reply.started": "2022-01-17T12:40:50.958041Z"
    }
   },
   "outputs": [],
   "source": [
    "# In a plot, we visualize player earnings based on recored workrate\n",
    "\n",
    "fig, ax = plt.subplots(figsize=(7,5))\n",
    "df.groupby(\"work_rate\")[\"wage_eur\"].max().plot.bar()\n",
    "plt.xlabel(\"Work Rate\") \n",
    "plt.ylabel(\"Wages in EUR\")\n",
    "plt.title(\"Wages by level of Workrate\", fontsize = 15)\n",
    "plt.show()"
   ]
  },
  {
   "cell_type": "code",
   "execution_count": null,
   "metadata": {
    "execution": {
     "iopub.execute_input": "2022-01-17T12:40:51.211886Z",
     "iopub.status.busy": "2022-01-17T12:40:51.211591Z",
     "iopub.status.idle": "2022-01-17T12:40:52.782362Z",
     "shell.execute_reply": "2022-01-17T12:40:52.781221Z",
     "shell.execute_reply.started": "2022-01-17T12:40:51.211846Z"
    }
   },
   "outputs": [],
   "source": [
    "# Let's visualize the distribution of key metrics\n",
    "\n",
    "fig, axes = plt.subplots(2, 2, figsize=(13, 9))\n",
    "axes[0,0].hist(df['wage_eur'])\n",
    "axes[0,0].set_xlabel('Wages in Euro')\n",
    "axes[0,0].set_ylabel('Count')\n",
    "axes[0,0].set_title('Distribution of Wages in Euros')\n",
    "\n",
    "axes[0,1].hist(df['age'], bins = 15)\n",
    "axes[0,1].set_xlabel('Age of Players')\n",
    "axes[0,1].set_ylabel('Count')\n",
    "axes[0,1].set_title('Distribution of Players Ages')\n",
    "\n",
    "# first two is using a matplotlib syntax, the next two I'll do with seaborn \n",
    "\n",
    "axes[1,0].set_title('Distribution of Height of Players')\n",
    "sns.histplot(df, x='height_cm', ax=axes[1,0], kde=True)\n",
    "axes[1,0].set_xlabel('Height in Centimeters')\n",
    "axes[1,0].set_ylabel('Count')\n",
    "\n",
    "\n",
    "axes[1,1].set_title('Distribution of Weight of Players')\n",
    "sns.histplot(df, x='weight_kg', ax=axes[1,1], kde=True)\n",
    "axes[1,1].set_xlabel('Weight in kg')\n",
    "axes[1,1].set_ylabel('Count')\n",
    "\n",
    "\n",
    "plt.tight_layout(pad=2)\n",
    "plt.show()"
   ]
  },
  {
   "cell_type": "code",
   "execution_count": null,
   "metadata": {
    "execution": {
     "iopub.execute_input": "2022-01-17T12:40:52.783799Z",
     "iopub.status.busy": "2022-01-17T12:40:52.783557Z",
     "iopub.status.idle": "2022-01-17T12:40:52.916253Z",
     "shell.execute_reply": "2022-01-17T12:40:52.915385Z",
     "shell.execute_reply.started": "2022-01-17T12:40:52.783768Z"
    }
   },
   "outputs": [],
   "source": [
    "# Quick calculation to separate players based on preferred foot\n",
    "\n",
    "df.groupby(['preferred_foot']).count()[['sofifa_id']]"
   ]
  },
  {
   "cell_type": "code",
   "execution_count": null,
   "metadata": {
    "execution": {
     "iopub.execute_input": "2022-01-17T12:40:52.917693Z",
     "iopub.status.busy": "2022-01-17T12:40:52.917448Z",
     "iopub.status.idle": "2022-01-17T12:40:53.052684Z",
     "shell.execute_reply": "2022-01-17T12:40:53.051893Z",
     "shell.execute_reply.started": "2022-01-17T12:40:52.917663Z"
    }
   },
   "outputs": [],
   "source": [
    "df.groupby(['preferred_foot']).count().sum()[['sofifa_id']]"
   ]
  },
  {
   "cell_type": "code",
   "execution_count": null,
   "metadata": {
    "execution": {
     "iopub.execute_input": "2022-01-17T12:40:53.053897Z",
     "iopub.status.busy": "2022-01-17T12:40:53.053696Z",
     "iopub.status.idle": "2022-01-17T12:40:53.279373Z",
     "shell.execute_reply": "2022-01-17T12:40:53.278242Z",
     "shell.execute_reply.started": "2022-01-17T12:40:53.053872Z"
    }
   },
   "outputs": [],
   "source": [
    "# Visualize with a pie, and include percentages using autopct\n",
    "\n",
    "# Which foot does the footballers in fifa 21 use more?\n",
    "\n",
    "preferred_foot_labels = df[\"preferred_foot\"].value_counts().index # (Right,Left) \n",
    "preferred_foot_values = df[\"preferred_foot\"].value_counts().values # (Right Values, Left Values)\n",
    "explode = (0, 0.1) # used to separate the pie\n",
    "\n",
    "# Visualize\n",
    "\n",
    "plt.figure(figsize = (7,7))\n",
    "plt.pie(preferred_foot_values, labels=preferred_foot_labels,autopct='%1.2f%%')\n",
    "plt.title('Football Players Preferred Feet',color = 'black',fontsize = 15)\n",
    "plt.legend()\n",
    "plt.show()"
   ]
  },
  {
   "cell_type": "code",
   "execution_count": null,
   "metadata": {
    "execution": {
     "iopub.execute_input": "2022-01-17T12:40:53.281422Z",
     "iopub.status.busy": "2022-01-17T12:40:53.281061Z",
     "iopub.status.idle": "2022-01-17T12:40:53.29806Z",
     "shell.execute_reply": "2022-01-17T12:40:53.297184Z",
     "shell.execute_reply.started": "2022-01-17T12:40:53.281376Z"
    }
   },
   "outputs": [],
   "source": [
    "# What nationalities are the most popular in the dataset?\n",
    "\n",
    "df['nationality_name'].value_counts()"
   ]
  },
  {
   "cell_type": "code",
   "execution_count": null,
   "metadata": {
    "execution": {
     "iopub.execute_input": "2022-01-17T12:40:53.30061Z",
     "iopub.status.busy": "2022-01-17T12:40:53.299899Z",
     "iopub.status.idle": "2022-01-17T12:40:54.02619Z",
     "shell.execute_reply": "2022-01-17T12:40:54.025521Z",
     "shell.execute_reply.started": "2022-01-17T12:40:53.300562Z"
    }
   },
   "outputs": [],
   "source": [
    "nationality_name = \" \".join(n for n in df['nationality_name'])\n",
    "plt.figure(figsize=(10, 10)) \n",
    "wc = WordCloud().generate(nationality_name) \n",
    "plt.imshow(wc, interpolation='bilinear') \n",
    "plt.axis('off') \n",
    "plt.show()"
   ]
  },
  {
   "cell_type": "code",
   "execution_count": null,
   "metadata": {
    "execution": {
     "iopub.execute_input": "2022-01-17T12:40:54.027726Z",
     "iopub.status.busy": "2022-01-17T12:40:54.027367Z",
     "iopub.status.idle": "2022-01-17T12:40:54.037658Z",
     "shell.execute_reply": "2022-01-17T12:40:54.036862Z",
     "shell.execute_reply.started": "2022-01-17T12:40:54.027681Z"
    }
   },
   "outputs": [],
   "source": [
    "# Another method to do this\n",
    "\n",
    "from collections import Counter\n",
    "bar_plot = dict(Counter(df['nationality_name'].values).most_common(5))\n",
    "bar_plot"
   ]
  },
  {
   "cell_type": "code",
   "execution_count": null,
   "metadata": {
    "execution": {
     "iopub.execute_input": "2022-01-17T12:40:54.039553Z",
     "iopub.status.busy": "2022-01-17T12:40:54.039229Z",
     "iopub.status.idle": "2022-01-17T12:40:54.234378Z",
     "shell.execute_reply": "2022-01-17T12:40:54.233563Z",
     "shell.execute_reply.started": "2022-01-17T12:40:54.039511Z"
    }
   },
   "outputs": [],
   "source": [
    "fig, ax = plt.subplots(figsize = (8,5))\n",
    "plt.bar(*zip(*bar_plot.items()))\n",
    "ax.set_title('Most Popular Nationalities')\n",
    "plt.show()"
   ]
  },
  {
   "cell_type": "code",
   "execution_count": null,
   "metadata": {
    "execution": {
     "iopub.execute_input": "2022-01-17T12:40:54.235888Z",
     "iopub.status.busy": "2022-01-17T12:40:54.235646Z",
     "iopub.status.idle": "2022-01-17T12:40:54.241518Z",
     "shell.execute_reply": "2022-01-17T12:40:54.240682Z",
     "shell.execute_reply.started": "2022-01-17T12:40:54.235856Z"
    }
   },
   "outputs": [],
   "source": [
    "def plot_most_common(category):\n",
    "    bar_plot = dict(Counter(df[category].values).most_common(5))\n",
    "    plt.bar(*zip(*bar_plot.items()))\n",
    "    plt.show()"
   ]
  },
  {
   "cell_type": "code",
   "execution_count": null,
   "metadata": {
    "execution": {
     "iopub.execute_input": "2022-01-17T12:40:54.243483Z",
     "iopub.status.busy": "2022-01-17T12:40:54.242931Z",
     "iopub.status.idle": "2022-01-17T12:40:54.419839Z",
     "shell.execute_reply": "2022-01-17T12:40:54.419203Z",
     "shell.execute_reply.started": "2022-01-17T12:40:54.243433Z"
    }
   },
   "outputs": [],
   "source": [
    "# What are the most common player positions?\n",
    "\n",
    "fig, ax = plt.subplots(figsize = (8,5))\n",
    "plot_most_common('player_positions')\n",
    "plt.show()"
   ]
  },
  {
   "cell_type": "code",
   "execution_count": null,
   "metadata": {
    "execution": {
     "iopub.execute_input": "2022-01-17T12:40:54.421247Z",
     "iopub.status.busy": "2022-01-17T12:40:54.42088Z",
     "iopub.status.idle": "2022-01-17T12:40:54.441941Z",
     "shell.execute_reply": "2022-01-17T12:40:54.441143Z",
     "shell.execute_reply.started": "2022-01-17T12:40:54.421218Z"
    }
   },
   "outputs": [],
   "source": [
    "# top 10 players, sorted primarily by wages\n",
    "\n",
    "player_name = df[['wage_eur','short_name',\n",
    "                  'value_eur','overall','age',\n",
    "                  'nationality_name','potential',\n",
    "                  'international_reputation']].nlargest(10,['wage_eur']).set_index('short_name')\n",
    "player_name"
   ]
  },
  {
   "cell_type": "code",
   "execution_count": null,
   "metadata": {
    "execution": {
     "iopub.execute_input": "2022-01-17T12:40:54.443544Z",
     "iopub.status.busy": "2022-01-17T12:40:54.443213Z",
     "iopub.status.idle": "2022-01-17T12:40:54.767842Z",
     "shell.execute_reply": "2022-01-17T12:40:54.767051Z",
     "shell.execute_reply.started": "2022-01-17T12:40:54.443513Z"
    }
   },
   "outputs": [],
   "source": [
    "# Top 20 players overall\n",
    "\n",
    "# We get the names and overals from the data\n",
    "Overall = df[\"overall\"]\n",
    "footballer_name = df[\"short_name\"]\n",
    "\n",
    "# Let's create dataframe(Name,Overall)\n",
    "data = pd.DataFrame({'short_name': footballer_name,'overall':Overall})\n",
    "\n",
    "x = df['short_name'].head(20) \n",
    "y = df['overall'].head(20)\n",
    "\n",
    "# plot\n",
    "plt.figure(figsize=(7,10))\n",
    "\n",
    "\n",
    "ax= sns.barplot(x=y, y=x, palette = 'Blues_r', orient='h')\n",
    "plt.xticks()\n",
    "plt.xlabel('Overall Ratings', size = 20) \n",
    "plt.ylabel('Player Names', size = 20 ) \n",
    "plt.title('FIFA22 Top 20 (Overall Rating)')\n",
    "\n",
    "plt.show()\n"
   ]
  },
  {
   "cell_type": "markdown",
   "metadata": {},
   "source": [
    "## here you can use any data set that i have provided. not only fifa 22 but other releases too. then you can see the difference in data of players in different years."
   ]
  },
  {
   "cell_type": "markdown",
   "metadata": {},
   "source": []
  }
 ],
 "metadata": {
  "kernelspec": {
   "display_name": "Python 3",
   "language": "python",
   "name": "python3"
  },
  "language_info": {
   "codemirror_mode": {
    "name": "ipython",
    "version": 3
   },
   "file_extension": ".py",
   "mimetype": "text/x-python",
   "name": "python",
   "nbconvert_exporter": "python",
   "pygments_lexer": "ipython3",
   "version": "3.8.8"
  }
 },
 "nbformat": 4,
 "nbformat_minor": 4
}
